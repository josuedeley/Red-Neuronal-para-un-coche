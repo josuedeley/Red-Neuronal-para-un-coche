{
  "nbformat": 4,
  "nbformat_minor": 0,
  "metadata": {
    "colab": {
      "provenance": []
    },
    "kernelspec": {
      "name": "python3",
      "display_name": "Python 3"
    },
    "language_info": {
      "name": "python"
    }
  },
  "cells": [
    {
      "cell_type": "markdown",
      "source": [
        "Esta práctica fue desarrollada por Josue Deley"
      ],
      "metadata": {
        "id": "hV22Pai-hwfW"
      }
    },
    {
      "cell_type": "code",
      "source": [
        "import numpy as np\n",
        "import matplotlib.pyplot as plt\n",
        "\n",
        "def sigmoid(x):\n",
        "  return 1.0/(1.0 + np.exp(-x))\n",
        "\n",
        "def sigmoid_derivada(x):\n",
        "  return sigmoid(x)*(1.0 - sigmoid(x))\n",
        "\n",
        "def tanh(x):\n",
        "  return np.tanh(x)\n",
        "\n",
        "def tanh_derivada(x):\n",
        "  return 1.0 - x**2\n",
        "\n",
        "class NeuralNetwork:\n",
        "\n",
        "    def __init__(self, layers, activation='tanh'):\n",
        "        if activation == 'sigmoid':\n",
        "            self.activation = sigmoid\n",
        "            self.activation_prime = sigmoid_derivada\n",
        "        elif activation == 'tanh':\n",
        "            self.activation = tanh\n",
        "            self.activation_prime = tanh_derivada\n",
        "\n",
        "        self.weights = []\n",
        "        self.deltas = []\n",
        "\n",
        "        for i in range(1, len(layers) - 1):\n",
        "            r = 2*np.random.random((layers[i-1] + 1, layers[i] + 1)) -1\n",
        "            self.weights.append(r)\n",
        "\n",
        "        r = 2*np.random.random( (layers[i] + 1, layers[i+1])) - 1\n",
        "        self.weights.append(r)\n",
        "\n",
        "    def fit(self, X, y, learning_rate=0.2, epochs=100000):\n",
        "        ones = np.atleast_2d(np.ones(X.shape[0]))\n",
        "        X = np.concatenate((ones.T, X), axis=1)\n",
        "\n",
        "        for k in range(epochs):\n",
        "            i = np.random.randint(X.shape[0])\n",
        "            a = [X[i]]\n",
        "\n",
        "            for l in range(len(self.weights)):\n",
        "                    dot_value = np.dot(a[l], self.weights[l])\n",
        "                    activation = self.activation(dot_value)\n",
        "                    a.append(activation)\n",
        "\n",
        "            error = y[i] - a[-1]\n",
        "            deltas = [error * self.activation_prime(a[-1])]\n",
        "\n",
        "            for l in range(len(a) - 2, 0, -1):\n",
        "                deltas.append(deltas[-1].dot(self.weights[l].T)*self.activation_prime(a[l]))\n",
        "            self.deltas.append(deltas)\n",
        "\n",
        "            deltas.reverse()\n",
        "\n",
        "            for i in range(len(self.weights)):\n",
        "                layer = np.atleast_2d(a[i])\n",
        "                delta = np.atleast_2d(deltas[i])\n",
        "                self.weights[i] += learning_rate * layer.T.dot(delta)\n",
        "\n",
        "            if k % 10000 == 0: print('epochs: ', k )\n",
        "\n",
        "    def predict(self, x):\n",
        "        ones = np.atleast_2d(np.ones(x.shape[0]))\n",
        "        a = np.concatenate((np.ones(1).T, np.array(x)), axis=0)\n",
        "        for l in range(0, len(self.weights)):\n",
        "            a = self.activation(np.dot(a, self.weights[l]))\n",
        "        return a\n",
        "\n",
        "    def print_weights(self):\n",
        "        print(\"LISTADO PESOS DE CONEXIONES\")\n",
        "        for i in range(len(self.weights)):\n",
        "            print(self.weights[i])\n",
        "\n",
        "    def get_deltas(self):\n",
        "        return self.deltas\n",
        "\n",
        "nn = NeuralNetwork([2,3,2],activation='tanh')\n",
        "X = np.array([[0, 0],\n",
        "              [0, 1],\n",
        "              [0,-1],\n",
        "              [0.5, 1],\n",
        "              [0.5,-1],\n",
        "              [1, 1],\n",
        "              [1,-1]\n",
        "])\n",
        "\n",
        "y = np.array([[0, 1],\n",
        "              [0, 1],\n",
        "              [0, 1],\n",
        "              [-1, 1],\n",
        "              [1, 1],\n",
        "              [0,-1],\n",
        "              [0, -1]\n",
        "])\n",
        "nn.fit(X, y, learning_rate=0.03, epochs=15001)\n",
        "index = 0\n",
        "for e in X:\n",
        "    print (\"X: \", e, \" y: \", y[index], \" Network: \", nn.predict(e))\n",
        "    index = index+1\n",
        "#Graficas\n",
        "deltas = nn.get_deltas()\n",
        "valores=[]\n",
        "index=0\n",
        "for arreglo in deltas:\n",
        "    valores.append(arreglo[1][0] + arreglo[1][1])\n",
        "    index=index+1\n",
        "\n",
        "plt.plot(range(len(valores)), valores, color='b')\n",
        "plt.ylim([0, 1])\n",
        "plt.ylabel('Cost')\n",
        "plt.xlabel('Epochs')\n",
        "plt.tight_layout()\n",
        "plt.show()"
      ],
      "metadata": {
        "colab": {
          "base_uri": "https://localhost:8080/",
          "height": 643
        },
        "id": "ujPMwjBsh0ZW",
        "outputId": "c2f72e39-43c0-460f-98c0-c59b21eb05d7"
      },
      "execution_count": null,
      "outputs": [
        {
          "output_type": "stream",
          "name": "stdout",
          "text": [
            "epochs:  0\n",
            "epochs:  10000\n",
            "X:  [0. 0.]  y:  [0 1]  Network:  [1.82011586e-04 9.99984304e-01]\n",
            "X:  [0. 1.]  y:  [0 1]  Network:  [-0.00315256  0.99998267]\n",
            "X:  [ 0. -1.]  y:  [0 1]  Network:  [1.02766142e-04 9.99870509e-01]\n",
            "X:  [0.5 1. ]  y:  [-1  1]  Network:  [-0.93705278  0.95422158]\n",
            "X:  [ 0.5 -1. ]  y:  [1 1]  Network:  [0.96612199 0.95527247]\n",
            "X:  [1. 1.]  y:  [ 0 -1]  Network:  [-0.00662361 -0.96110902]\n",
            "X:  [ 1. -1.]  y:  [ 0 -1]  Network:  [ 0.00228152 -0.97542761]\n"
          ]
        },
        {
          "output_type": "display_data",
          "data": {
            "text/plain": [
              "<Figure size 640x480 with 1 Axes>"
            ],
            "image/png": "[encoded data removed]"
          },
          "metadata": {}
        }
      ]
    }
  ]
}